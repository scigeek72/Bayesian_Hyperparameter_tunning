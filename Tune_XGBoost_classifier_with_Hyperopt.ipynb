{
  "nbformat": 4,
  "nbformat_minor": 0,
  "metadata": {
    "colab": {
      "provenance": [],
      "authorship_tag": "ABX9TyMJQgAMmuPOXkpTybLvo1YG",
      "include_colab_link": true
    },
    "kernelspec": {
      "name": "python3",
      "display_name": "Python 3"
    },
    "language_info": {
      "name": "python"
    }
  },
  "cells": [
    {
      "cell_type": "markdown",
      "metadata": {
        "id": "view-in-github",
        "colab_type": "text"
      },
      "source": [
        "<a href=\"https://colab.research.google.com/github/scigeek72/Bayesian_Hyperparameter_tunning/blob/main/Tune_XGBoost_classifier_with_Hyperopt.ipynb\" target=\"_parent\"><img src=\"https://colab.research.google.com/assets/colab-badge.svg\" alt=\"Open In Colab\"/></a>"
      ]
    },
    {
      "cell_type": "markdown",
      "source": [
        "# Tunning hyper-parameters of a XGBoost classifier using Hyperopt package\n",
        "\n",
        "The primary objective of this blog post is to highlight the critical role of hyperparameter tuning in the process of model building. Based on my experience in the field, particularly in the application domain, it is evident that there is often an emphasis on the power of algorithms or models, without giving adequate attention to the importance of fine-tuning them to achieve optimal performance. Through this post, I aim to emphasize the significance of hyperparameter tuning and encourage readers to prioritize this critical step in their machine learning workflows.\n",
        "\n",
        "In this blog post, we will explore the use of the [Hyperopt package](https://github.com/hyperopt/hyperopt) for automatic hyperparameter tuning of a machine learning model. Specifically, we will use Hyperopt to tune a XGBoost classifier, although this methodology can also be applied to other types of classifiers or regressors. Hyperparameter tuning is a crucial step in machine learning, as it can significantly impact the performance of the model. While grid search and randomized search are commonly used optimization techniques, they have limitations such as being slow or underperforming. Bayesian optimization algorithms have emerged as a promising alternative to these traditional tuning algorithms. In this post, we will demonstrate how to use a Bayesian optimization algorithm provided by the Hyperopt package to optimize the hyperparameters of a XGBoost classifier for a classification task. We will begin by loading a dataset for classification."
      ],
      "metadata": {
        "id": "x-cdgKKUIKFJ"
      }
    },
    {
      "cell_type": "markdown",
      "source": [
        "## Loading dataset\n",
        "\n",
        "We will load breast cancer data sets from scikit-learn."
      ],
      "metadata": {
        "id": "scp6LxYlIPC7"
      }
    },
    {
      "cell_type": "code",
      "source": [
        "from sklearn import datasets\n",
        "\n",
        "data = datasets.load_breast_cancer()"
      ],
      "metadata": {
        "id": "m7jo0uYbIOXK"
      },
      "execution_count": null,
      "outputs": []
    },
    {
      "cell_type": "code",
      "source": [
        "data.keys()"
      ],
      "metadata": {
        "colab": {
          "base_uri": "https://localhost:8080/"
        },
        "id": "iLh5K5-pIgvw",
        "outputId": "c33f2c79-2532-4b04-eab5-da51dc9a2745"
      },
      "execution_count": null,
      "outputs": [
        {
          "output_type": "execute_result",
          "data": {
            "text/plain": [
              "dict_keys(['data', 'target', 'frame', 'target_names', 'DESCR', 'feature_names', 'filename', 'data_module'])"
            ]
          },
          "metadata": {},
          "execution_count": 3
        }
      ]
    },
    {
      "cell_type": "markdown",
      "source": [
        "Below we will investigate the dataset to get an idea about it, e.g. what are the feature names, what is the target, and if any cleaning is needed."
      ],
      "metadata": {
        "id": "FKipKmldI3Xg"
      }
    },
    {
      "cell_type": "code",
      "source": [
        "print(data['feature_names'])\n",
        "print(\"\\n**************************\\n\")\n",
        "print(data['target_names'])"
      ],
      "metadata": {
        "colab": {
          "base_uri": "https://localhost:8080/"
        },
        "id": "ssNpQ0I1ImW9",
        "outputId": "1dc20458-9b87-4e00-e69f-956606f4da27"
      },
      "execution_count": null,
      "outputs": [
        {
          "output_type": "stream",
          "name": "stdout",
          "text": [
            "['mean radius' 'mean texture' 'mean perimeter' 'mean area'\n",
            " 'mean smoothness' 'mean compactness' 'mean concavity'\n",
            " 'mean concave points' 'mean symmetry' 'mean fractal dimension'\n",
            " 'radius error' 'texture error' 'perimeter error' 'area error'\n",
            " 'smoothness error' 'compactness error' 'concavity error'\n",
            " 'concave points error' 'symmetry error' 'fractal dimension error'\n",
            " 'worst radius' 'worst texture' 'worst perimeter' 'worst area'\n",
            " 'worst smoothness' 'worst compactness' 'worst concavity'\n",
            " 'worst concave points' 'worst symmetry' 'worst fractal dimension']\n",
            "\n",
            "**************************\n",
            "\n",
            "['malignant' 'benign']\n"
          ]
        }
      ]
    },
    {
      "cell_type": "markdown",
      "source": [
        "We will replace the space between words in `feature_names` by '_'. This is my personal taste and is not necessary if not desired."
      ],
      "metadata": {
        "id": "PPv6TN-GJnJS"
      }
    },
    {
      "cell_type": "code",
      "source": [
        "feature_names = [x.replace(' ','_') for x in data['feature_names'].tolist()] "
      ],
      "metadata": {
        "id": "OZAKZiGcJMpn"
      },
      "execution_count": null,
      "outputs": []
    },
    {
      "cell_type": "code",
      "source": [
        "X = data.data\n",
        "y = data.target\n",
        "\n",
        "print(f\"Type of X is {type(X)}\\n Type of y is {type(y)}\")\n"
      ],
      "metadata": {
        "colab": {
          "base_uri": "https://localhost:8080/"
        },
        "id": "8LifQ78cMbH9",
        "outputId": "aa2f1d4d-a74d-4e81-81df-0f05e7aca88c"
      },
      "execution_count": null,
      "outputs": [
        {
          "output_type": "stream",
          "name": "stdout",
          "text": [
            "Type of X is <class 'numpy.ndarray'>\n",
            " Type of y is <class 'numpy.ndarray'>\n"
          ]
        }
      ]
    },
    {
      "cell_type": "code",
      "source": [
        "# Convert the numpy arrays to pandas dataframe\n",
        "import pandas as pd\n",
        "import numpy as np\n",
        "\n",
        "X = pd.DataFrame(X,columns = feature_names)\n",
        "y = pd.DataFrame(y, columns = ['lable'])"
      ],
      "metadata": {
        "id": "baXZ9KBSM0iJ"
      },
      "execution_count": null,
      "outputs": []
    },
    {
      "cell_type": "code",
      "source": [
        "X.head()"
      ],
      "metadata": {
        "colab": {
          "base_uri": "https://localhost:8080/",
          "height": 299
        },
        "id": "tJDzAuqRNHX3",
        "outputId": "b47699a0-82b6-4184-ebd2-214ffc724c39"
      },
      "execution_count": null,
      "outputs": [
        {
          "output_type": "execute_result",
          "data": {
            "text/plain": [
              "   mean_radius  mean_texture  mean_perimeter  mean_area  mean_smoothness  \\\n",
              "0        17.99         10.38          122.80     1001.0          0.11840   \n",
              "1        20.57         17.77          132.90     1326.0          0.08474   \n",
              "2        19.69         21.25          130.00     1203.0          0.10960   \n",
              "3        11.42         20.38           77.58      386.1          0.14250   \n",
              "4        20.29         14.34          135.10     1297.0          0.10030   \n",
              "\n",
              "   mean_compactness  mean_concavity  mean_concave_points  mean_symmetry  \\\n",
              "0           0.27760          0.3001              0.14710         0.2419   \n",
              "1           0.07864          0.0869              0.07017         0.1812   \n",
              "2           0.15990          0.1974              0.12790         0.2069   \n",
              "3           0.28390          0.2414              0.10520         0.2597   \n",
              "4           0.13280          0.1980              0.10430         0.1809   \n",
              "\n",
              "   mean_fractal_dimension  ...  worst_radius  worst_texture  worst_perimeter  \\\n",
              "0                 0.07871  ...         25.38          17.33           184.60   \n",
              "1                 0.05667  ...         24.99          23.41           158.80   \n",
              "2                 0.05999  ...         23.57          25.53           152.50   \n",
              "3                 0.09744  ...         14.91          26.50            98.87   \n",
              "4                 0.05883  ...         22.54          16.67           152.20   \n",
              "\n",
              "   worst_area  worst_smoothness  worst_compactness  worst_concavity  \\\n",
              "0      2019.0            0.1622             0.6656           0.7119   \n",
              "1      1956.0            0.1238             0.1866           0.2416   \n",
              "2      1709.0            0.1444             0.4245           0.4504   \n",
              "3       567.7            0.2098             0.8663           0.6869   \n",
              "4      1575.0            0.1374             0.2050           0.4000   \n",
              "\n",
              "   worst_concave_points  worst_symmetry  worst_fractal_dimension  \n",
              "0                0.2654          0.4601                  0.11890  \n",
              "1                0.1860          0.2750                  0.08902  \n",
              "2                0.2430          0.3613                  0.08758  \n",
              "3                0.2575          0.6638                  0.17300  \n",
              "4                0.1625          0.2364                  0.07678  \n",
              "\n",
              "[5 rows x 30 columns]"
            ],
            "text/html": [
              "\n",
              "  <div id=\"df-4bceef12-27aa-4fea-aef1-088edbf1336c\">\n",
              "    <div class=\"colab-df-container\">\n",
              "      <div>\n",
              "<style scoped>\n",
              "    .dataframe tbody tr th:only-of-type {\n",
              "        vertical-align: middle;\n",
              "    }\n",
              "\n",
              "    .dataframe tbody tr th {\n",
              "        vertical-align: top;\n",
              "    }\n",
              "\n",
              "    .dataframe thead th {\n",
              "        text-align: right;\n",
              "    }\n",
              "</style>\n",
              "<table border=\"1\" class=\"dataframe\">\n",
              "  <thead>\n",
              "    <tr style=\"text-align: right;\">\n",
              "      <th></th>\n",
              "      <th>mean_radius</th>\n",
              "      <th>mean_texture</th>\n",
              "      <th>mean_perimeter</th>\n",
              "      <th>mean_area</th>\n",
              "      <th>mean_smoothness</th>\n",
              "      <th>mean_compactness</th>\n",
              "      <th>mean_concavity</th>\n",
              "      <th>mean_concave_points</th>\n",
              "      <th>mean_symmetry</th>\n",
              "      <th>mean_fractal_dimension</th>\n",
              "      <th>...</th>\n",
              "      <th>worst_radius</th>\n",
              "      <th>worst_texture</th>\n",
              "      <th>worst_perimeter</th>\n",
              "      <th>worst_area</th>\n",
              "      <th>worst_smoothness</th>\n",
              "      <th>worst_compactness</th>\n",
              "      <th>worst_concavity</th>\n",
              "      <th>worst_concave_points</th>\n",
              "      <th>worst_symmetry</th>\n",
              "      <th>worst_fractal_dimension</th>\n",
              "    </tr>\n",
              "  </thead>\n",
              "  <tbody>\n",
              "    <tr>\n",
              "      <th>0</th>\n",
              "      <td>17.99</td>\n",
              "      <td>10.38</td>\n",
              "      <td>122.80</td>\n",
              "      <td>1001.0</td>\n",
              "      <td>0.11840</td>\n",
              "      <td>0.27760</td>\n",
              "      <td>0.3001</td>\n",
              "      <td>0.14710</td>\n",
              "      <td>0.2419</td>\n",
              "      <td>0.07871</td>\n",
              "      <td>...</td>\n",
              "      <td>25.38</td>\n",
              "      <td>17.33</td>\n",
              "      <td>184.60</td>\n",
              "      <td>2019.0</td>\n",
              "      <td>0.1622</td>\n",
              "      <td>0.6656</td>\n",
              "      <td>0.7119</td>\n",
              "      <td>0.2654</td>\n",
              "      <td>0.4601</td>\n",
              "      <td>0.11890</td>\n",
              "    </tr>\n",
              "    <tr>\n",
              "      <th>1</th>\n",
              "      <td>20.57</td>\n",
              "      <td>17.77</td>\n",
              "      <td>132.90</td>\n",
              "      <td>1326.0</td>\n",
              "      <td>0.08474</td>\n",
              "      <td>0.07864</td>\n",
              "      <td>0.0869</td>\n",
              "      <td>0.07017</td>\n",
              "      <td>0.1812</td>\n",
              "      <td>0.05667</td>\n",
              "      <td>...</td>\n",
              "      <td>24.99</td>\n",
              "      <td>23.41</td>\n",
              "      <td>158.80</td>\n",
              "      <td>1956.0</td>\n",
              "      <td>0.1238</td>\n",
              "      <td>0.1866</td>\n",
              "      <td>0.2416</td>\n",
              "      <td>0.1860</td>\n",
              "      <td>0.2750</td>\n",
              "      <td>0.08902</td>\n",
              "    </tr>\n",
              "    <tr>\n",
              "      <th>2</th>\n",
              "      <td>19.69</td>\n",
              "      <td>21.25</td>\n",
              "      <td>130.00</td>\n",
              "      <td>1203.0</td>\n",
              "      <td>0.10960</td>\n",
              "      <td>0.15990</td>\n",
              "      <td>0.1974</td>\n",
              "      <td>0.12790</td>\n",
              "      <td>0.2069</td>\n",
              "      <td>0.05999</td>\n",
              "      <td>...</td>\n",
              "      <td>23.57</td>\n",
              "      <td>25.53</td>\n",
              "      <td>152.50</td>\n",
              "      <td>1709.0</td>\n",
              "      <td>0.1444</td>\n",
              "      <td>0.4245</td>\n",
              "      <td>0.4504</td>\n",
              "      <td>0.2430</td>\n",
              "      <td>0.3613</td>\n",
              "      <td>0.08758</td>\n",
              "    </tr>\n",
              "    <tr>\n",
              "      <th>3</th>\n",
              "      <td>11.42</td>\n",
              "      <td>20.38</td>\n",
              "      <td>77.58</td>\n",
              "      <td>386.1</td>\n",
              "      <td>0.14250</td>\n",
              "      <td>0.28390</td>\n",
              "      <td>0.2414</td>\n",
              "      <td>0.10520</td>\n",
              "      <td>0.2597</td>\n",
              "      <td>0.09744</td>\n",
              "      <td>...</td>\n",
              "      <td>14.91</td>\n",
              "      <td>26.50</td>\n",
              "      <td>98.87</td>\n",
              "      <td>567.7</td>\n",
              "      <td>0.2098</td>\n",
              "      <td>0.8663</td>\n",
              "      <td>0.6869</td>\n",
              "      <td>0.2575</td>\n",
              "      <td>0.6638</td>\n",
              "      <td>0.17300</td>\n",
              "    </tr>\n",
              "    <tr>\n",
              "      <th>4</th>\n",
              "      <td>20.29</td>\n",
              "      <td>14.34</td>\n",
              "      <td>135.10</td>\n",
              "      <td>1297.0</td>\n",
              "      <td>0.10030</td>\n",
              "      <td>0.13280</td>\n",
              "      <td>0.1980</td>\n",
              "      <td>0.10430</td>\n",
              "      <td>0.1809</td>\n",
              "      <td>0.05883</td>\n",
              "      <td>...</td>\n",
              "      <td>22.54</td>\n",
              "      <td>16.67</td>\n",
              "      <td>152.20</td>\n",
              "      <td>1575.0</td>\n",
              "      <td>0.1374</td>\n",
              "      <td>0.2050</td>\n",
              "      <td>0.4000</td>\n",
              "      <td>0.1625</td>\n",
              "      <td>0.2364</td>\n",
              "      <td>0.07678</td>\n",
              "    </tr>\n",
              "  </tbody>\n",
              "</table>\n",
              "<p>5 rows × 30 columns</p>\n",
              "</div>\n",
              "      <button class=\"colab-df-convert\" onclick=\"convertToInteractive('df-4bceef12-27aa-4fea-aef1-088edbf1336c')\"\n",
              "              title=\"Convert this dataframe to an interactive table.\"\n",
              "              style=\"display:none;\">\n",
              "        \n",
              "  <svg xmlns=\"http://www.w3.org/2000/svg\" height=\"24px\"viewBox=\"0 0 24 24\"\n",
              "       width=\"24px\">\n",
              "    <path d=\"M0 0h24v24H0V0z\" fill=\"none\"/>\n",
              "    <path d=\"M18.56 5.44l.94 2.06.94-2.06 2.06-.94-2.06-.94-.94-2.06-.94 2.06-2.06.94zm-11 1L8.5 8.5l.94-2.06 2.06-.94-2.06-.94L8.5 2.5l-.94 2.06-2.06.94zm10 10l.94 2.06.94-2.06 2.06-.94-2.06-.94-.94-2.06-.94 2.06-2.06.94z\"/><path d=\"M17.41 7.96l-1.37-1.37c-.4-.4-.92-.59-1.43-.59-.52 0-1.04.2-1.43.59L10.3 9.45l-7.72 7.72c-.78.78-.78 2.05 0 2.83L4 21.41c.39.39.9.59 1.41.59.51 0 1.02-.2 1.41-.59l7.78-7.78 2.81-2.81c.8-.78.8-2.07 0-2.86zM5.41 20L4 18.59l7.72-7.72 1.47 1.35L5.41 20z\"/>\n",
              "  </svg>\n",
              "      </button>\n",
              "      \n",
              "  <style>\n",
              "    .colab-df-container {\n",
              "      display:flex;\n",
              "      flex-wrap:wrap;\n",
              "      gap: 12px;\n",
              "    }\n",
              "\n",
              "    .colab-df-convert {\n",
              "      background-color: #E8F0FE;\n",
              "      border: none;\n",
              "      border-radius: 50%;\n",
              "      cursor: pointer;\n",
              "      display: none;\n",
              "      fill: #1967D2;\n",
              "      height: 32px;\n",
              "      padding: 0 0 0 0;\n",
              "      width: 32px;\n",
              "    }\n",
              "\n",
              "    .colab-df-convert:hover {\n",
              "      background-color: #E2EBFA;\n",
              "      box-shadow: 0px 1px 2px rgba(60, 64, 67, 0.3), 0px 1px 3px 1px rgba(60, 64, 67, 0.15);\n",
              "      fill: #174EA6;\n",
              "    }\n",
              "\n",
              "    [theme=dark] .colab-df-convert {\n",
              "      background-color: #3B4455;\n",
              "      fill: #D2E3FC;\n",
              "    }\n",
              "\n",
              "    [theme=dark] .colab-df-convert:hover {\n",
              "      background-color: #434B5C;\n",
              "      box-shadow: 0px 1px 3px 1px rgba(0, 0, 0, 0.15);\n",
              "      filter: drop-shadow(0px 1px 2px rgba(0, 0, 0, 0.3));\n",
              "      fill: #FFFFFF;\n",
              "    }\n",
              "  </style>\n",
              "\n",
              "      <script>\n",
              "        const buttonEl =\n",
              "          document.querySelector('#df-4bceef12-27aa-4fea-aef1-088edbf1336c button.colab-df-convert');\n",
              "        buttonEl.style.display =\n",
              "          google.colab.kernel.accessAllowed ? 'block' : 'none';\n",
              "\n",
              "        async function convertToInteractive(key) {\n",
              "          const element = document.querySelector('#df-4bceef12-27aa-4fea-aef1-088edbf1336c');\n",
              "          const dataTable =\n",
              "            await google.colab.kernel.invokeFunction('convertToInteractive',\n",
              "                                                     [key], {});\n",
              "          if (!dataTable) return;\n",
              "\n",
              "          const docLinkHtml = 'Like what you see? Visit the ' +\n",
              "            '<a target=\"_blank\" href=https://colab.research.google.com/notebooks/data_table.ipynb>data table notebook</a>'\n",
              "            + ' to learn more about interactive tables.';\n",
              "          element.innerHTML = '';\n",
              "          dataTable['output_type'] = 'display_data';\n",
              "          await google.colab.output.renderOutput(dataTable, element);\n",
              "          const docLink = document.createElement('div');\n",
              "          docLink.innerHTML = docLinkHtml;\n",
              "          element.appendChild(docLink);\n",
              "        }\n",
              "      </script>\n",
              "    </div>\n",
              "  </div>\n",
              "  "
            ]
          },
          "metadata": {},
          "execution_count": 8
        }
      ]
    },
    {
      "cell_type": "code",
      "source": [
        "X.info()"
      ],
      "metadata": {
        "colab": {
          "base_uri": "https://localhost:8080/"
        },
        "id": "KPjOucVpNTRu",
        "outputId": "ea80d3d2-14ea-47c5-82fb-08ed01142c66"
      },
      "execution_count": null,
      "outputs": [
        {
          "output_type": "stream",
          "name": "stdout",
          "text": [
            "<class 'pandas.core.frame.DataFrame'>\n",
            "RangeIndex: 569 entries, 0 to 568\n",
            "Data columns (total 30 columns):\n",
            " #   Column                   Non-Null Count  Dtype  \n",
            "---  ------                   --------------  -----  \n",
            " 0   mean_radius              569 non-null    float64\n",
            " 1   mean_texture             569 non-null    float64\n",
            " 2   mean_perimeter           569 non-null    float64\n",
            " 3   mean_area                569 non-null    float64\n",
            " 4   mean_smoothness          569 non-null    float64\n",
            " 5   mean_compactness         569 non-null    float64\n",
            " 6   mean_concavity           569 non-null    float64\n",
            " 7   mean_concave_points      569 non-null    float64\n",
            " 8   mean_symmetry            569 non-null    float64\n",
            " 9   mean_fractal_dimension   569 non-null    float64\n",
            " 10  radius_error             569 non-null    float64\n",
            " 11  texture_error            569 non-null    float64\n",
            " 12  perimeter_error          569 non-null    float64\n",
            " 13  area_error               569 non-null    float64\n",
            " 14  smoothness_error         569 non-null    float64\n",
            " 15  compactness_error        569 non-null    float64\n",
            " 16  concavity_error          569 non-null    float64\n",
            " 17  concave_points_error     569 non-null    float64\n",
            " 18  symmetry_error           569 non-null    float64\n",
            " 19  fractal_dimension_error  569 non-null    float64\n",
            " 20  worst_radius             569 non-null    float64\n",
            " 21  worst_texture            569 non-null    float64\n",
            " 22  worst_perimeter          569 non-null    float64\n",
            " 23  worst_area               569 non-null    float64\n",
            " 24  worst_smoothness         569 non-null    float64\n",
            " 25  worst_compactness        569 non-null    float64\n",
            " 26  worst_concavity          569 non-null    float64\n",
            " 27  worst_concave_points     569 non-null    float64\n",
            " 28  worst_symmetry           569 non-null    float64\n",
            " 29  worst_fractal_dimension  569 non-null    float64\n",
            "dtypes: float64(30)\n",
            "memory usage: 133.5 KB\n"
          ]
        }
      ]
    },
    {
      "cell_type": "markdown",
      "source": [
        "Lets investigate the target column. "
      ],
      "metadata": {
        "id": "muFX4UtZNuZY"
      }
    },
    {
      "cell_type": "code",
      "source": [
        "print(f\"Number of cases labeled 1 is: {sum(y.lable == 1)}\\n\")\n",
        "\n",
        "print(f\"Number of cases labeled 0 is: {sum(y.lable == 0)}\")"
      ],
      "metadata": {
        "colab": {
          "base_uri": "https://localhost:8080/"
        },
        "id": "JyiYQQhbNbf1",
        "outputId": "2889fe8f-0b83-4461-c8e3-fd67a665fc00"
      },
      "execution_count": null,
      "outputs": [
        {
          "output_type": "stream",
          "name": "stdout",
          "text": [
            "Number of cases labeled 1 is: 357\n",
            "\n",
            "Number of cases labeled 0 is: 212\n"
          ]
        }
      ]
    },
    {
      "cell_type": "markdown",
      "source": [
        "So, `Benign` is labeled as 1 and `Malignant` is labeled as 0"
      ],
      "metadata": {
        "id": "otlOTQ4qOoXJ"
      }
    },
    {
      "cell_type": "code",
      "source": [
        "nneg = sum(y.lable == 0)\n",
        "npos = sum(y.lable == 1)\n",
        "\n",
        "print(f\"The ratio of negative to positive cases is: {nneg/npos}\")"
      ],
      "metadata": {
        "colab": {
          "base_uri": "https://localhost:8080/"
        },
        "id": "N0L6vt-7N2v-",
        "outputId": "20ee15a8-a8cb-44b5-dc48-b18e22994172"
      },
      "execution_count": null,
      "outputs": [
        {
          "output_type": "stream",
          "name": "stdout",
          "text": [
            "The ratio of negative to positive cases is: 0.5938375350140056\n"
          ]
        }
      ]
    },
    {
      "cell_type": "markdown",
      "source": [
        "We will split the dataset into train and test sets. We will set aside test set and only use it to evaluate the model. \n",
        "\n",
        "Also, we will use `StratifiedShuffleSplit` to make sure the `train` and `test` sets has the same positive and negative cases."
      ],
      "metadata": {
        "id": "DY4xxGNdQep_"
      }
    },
    {
      "cell_type": "code",
      "source": [
        "from pandas.core.common import random_state\n",
        "from sklearn.model_selection import StratifiedShuffleSplit\n",
        "\n",
        "ss = StratifiedShuffleSplit(2,test_size=0.2, random_state=44)\n",
        "for tr_idx,ts_idx in ss.split(X,y):\n",
        "  X_train, y_train = X.loc[tr_idx], y.loc[tr_idx]\n",
        "  X_test, y_test = X.loc[ts_idx], y.loc[ts_idx]\n",
        "\n",
        "print(f\"\\nShape of X_train is {X_train.shape}\")\n",
        "print(f\"\\nShape of X_test is {X_test.shape}\")\n",
        "print(f\"\\nLength of y_train is {y_train.shape}\")\n",
        "print(f\"\\nLength of y_test is {y_test.shape}\")"
      ],
      "metadata": {
        "colab": {
          "base_uri": "https://localhost:8080/"
        },
        "id": "PDpdll77PX8j",
        "outputId": "c473b33e-b3da-4f0a-9ab7-2d14da534859"
      },
      "execution_count": null,
      "outputs": [
        {
          "output_type": "stream",
          "name": "stdout",
          "text": [
            "\n",
            "Shape of X_train is (455, 30)\n",
            "\n",
            "Shape of X_test is (114, 30)\n",
            "\n",
            "Length of y_train is (455, 1)\n",
            "\n",
            "Length of y_test is (114, 1)\n"
          ]
        }
      ]
    },
    {
      "cell_type": "code",
      "source": [
        "import xgboost as xgb\n",
        "# Build DMatrix (primarily to make processing faster) \n",
        "dtrain_clf = xgb.DMatrix(X_train, y_train, enable_categorical=True)\n",
        "dtest_clf = xgb.DMatrix(X_test, y_test, enable_categorical=True)"
      ],
      "metadata": {
        "id": "g_RXclEbRVIx"
      },
      "execution_count": null,
      "outputs": []
    },
    {
      "cell_type": "markdown",
      "source": [
        "Below we will cross-validate a model with default parameters. "
      ],
      "metadata": {
        "id": "ESc6H_XfSk2j"
      }
    },
    {
      "cell_type": "code",
      "source": [
        "from sklearn.metrics import f1_score, recall_score, confusion_matrix,roc_auc_score\n",
        "\n",
        "params_1 = {\"objective\": \"binary:logistic\"}\n",
        "\n",
        "n = 1000\n",
        "\n",
        "results = xgb.cv(params_1,\n",
        "                 dtrain_clf,\n",
        "                 num_boost_round = n,\n",
        "                 nfold=5,\n",
        "                 metrics = [\"logloss\",\"auc\",\"error\"],\n",
        "                 early_stopping_rounds=20\n",
        "                 )"
      ],
      "metadata": {
        "id": "MXeZJg5uRiRX"
      },
      "execution_count": null,
      "outputs": []
    },
    {
      "cell_type": "code",
      "source": [
        "results.head()"
      ],
      "metadata": {
        "colab": {
          "base_uri": "https://localhost:8080/",
          "height": 285
        },
        "id": "bvnGGhy1S1gM",
        "outputId": "cd361cf8-c634-4cad-e9c1-598f76407988"
      },
      "execution_count": null,
      "outputs": [
        {
          "output_type": "execute_result",
          "data": {
            "text/plain": [
              "   train-logloss-mean  train-logloss-std  train-auc-mean  train-auc-std  \\\n",
              "0            0.464040           0.004158        0.996691       0.002549   \n",
              "1            0.331266           0.002541        0.999291       0.000157   \n",
              "2            0.244992           0.002581        0.999695       0.000171   \n",
              "3            0.185390           0.002293        0.999820       0.000083   \n",
              "4            0.142205           0.002457        0.999887       0.000045   \n",
              "\n",
              "   train-error-mean  train-error-std  test-logloss-mean  test-logloss-std  \\\n",
              "0          0.024176         0.008223           0.486575          0.010266   \n",
              "1          0.008242         0.003885           0.365231          0.013975   \n",
              "2          0.007692         0.004396           0.284250          0.016925   \n",
              "3          0.006044         0.002056           0.233371          0.022338   \n",
              "4          0.003297         0.001099           0.197808          0.027032   \n",
              "\n",
              "   test-auc-mean  test-auc-std  test-error-mean  test-error-std  \n",
              "0       0.966609      0.026867         0.054945        0.028656  \n",
              "1       0.982045      0.014662         0.052747        0.027274  \n",
              "2       0.988781      0.010982         0.043956        0.023051  \n",
              "3       0.988673      0.011179         0.043956        0.024076  \n",
              "4       0.988299      0.011358         0.046154        0.022413  "
            ],
            "text/html": [
              "\n",
              "  <div id=\"df-3798a640-577a-44ea-980f-e79591e5cda5\">\n",
              "    <div class=\"colab-df-container\">\n",
              "      <div>\n",
              "<style scoped>\n",
              "    .dataframe tbody tr th:only-of-type {\n",
              "        vertical-align: middle;\n",
              "    }\n",
              "\n",
              "    .dataframe tbody tr th {\n",
              "        vertical-align: top;\n",
              "    }\n",
              "\n",
              "    .dataframe thead th {\n",
              "        text-align: right;\n",
              "    }\n",
              "</style>\n",
              "<table border=\"1\" class=\"dataframe\">\n",
              "  <thead>\n",
              "    <tr style=\"text-align: right;\">\n",
              "      <th></th>\n",
              "      <th>train-logloss-mean</th>\n",
              "      <th>train-logloss-std</th>\n",
              "      <th>train-auc-mean</th>\n",
              "      <th>train-auc-std</th>\n",
              "      <th>train-error-mean</th>\n",
              "      <th>train-error-std</th>\n",
              "      <th>test-logloss-mean</th>\n",
              "      <th>test-logloss-std</th>\n",
              "      <th>test-auc-mean</th>\n",
              "      <th>test-auc-std</th>\n",
              "      <th>test-error-mean</th>\n",
              "      <th>test-error-std</th>\n",
              "    </tr>\n",
              "  </thead>\n",
              "  <tbody>\n",
              "    <tr>\n",
              "      <th>0</th>\n",
              "      <td>0.464040</td>\n",
              "      <td>0.004158</td>\n",
              "      <td>0.996691</td>\n",
              "      <td>0.002549</td>\n",
              "      <td>0.024176</td>\n",
              "      <td>0.008223</td>\n",
              "      <td>0.486575</td>\n",
              "      <td>0.010266</td>\n",
              "      <td>0.966609</td>\n",
              "      <td>0.026867</td>\n",
              "      <td>0.054945</td>\n",
              "      <td>0.028656</td>\n",
              "    </tr>\n",
              "    <tr>\n",
              "      <th>1</th>\n",
              "      <td>0.331266</td>\n",
              "      <td>0.002541</td>\n",
              "      <td>0.999291</td>\n",
              "      <td>0.000157</td>\n",
              "      <td>0.008242</td>\n",
              "      <td>0.003885</td>\n",
              "      <td>0.365231</td>\n",
              "      <td>0.013975</td>\n",
              "      <td>0.982045</td>\n",
              "      <td>0.014662</td>\n",
              "      <td>0.052747</td>\n",
              "      <td>0.027274</td>\n",
              "    </tr>\n",
              "    <tr>\n",
              "      <th>2</th>\n",
              "      <td>0.244992</td>\n",
              "      <td>0.002581</td>\n",
              "      <td>0.999695</td>\n",
              "      <td>0.000171</td>\n",
              "      <td>0.007692</td>\n",
              "      <td>0.004396</td>\n",
              "      <td>0.284250</td>\n",
              "      <td>0.016925</td>\n",
              "      <td>0.988781</td>\n",
              "      <td>0.010982</td>\n",
              "      <td>0.043956</td>\n",
              "      <td>0.023051</td>\n",
              "    </tr>\n",
              "    <tr>\n",
              "      <th>3</th>\n",
              "      <td>0.185390</td>\n",
              "      <td>0.002293</td>\n",
              "      <td>0.999820</td>\n",
              "      <td>0.000083</td>\n",
              "      <td>0.006044</td>\n",
              "      <td>0.002056</td>\n",
              "      <td>0.233371</td>\n",
              "      <td>0.022338</td>\n",
              "      <td>0.988673</td>\n",
              "      <td>0.011179</td>\n",
              "      <td>0.043956</td>\n",
              "      <td>0.024076</td>\n",
              "    </tr>\n",
              "    <tr>\n",
              "      <th>4</th>\n",
              "      <td>0.142205</td>\n",
              "      <td>0.002457</td>\n",
              "      <td>0.999887</td>\n",
              "      <td>0.000045</td>\n",
              "      <td>0.003297</td>\n",
              "      <td>0.001099</td>\n",
              "      <td>0.197808</td>\n",
              "      <td>0.027032</td>\n",
              "      <td>0.988299</td>\n",
              "      <td>0.011358</td>\n",
              "      <td>0.046154</td>\n",
              "      <td>0.022413</td>\n",
              "    </tr>\n",
              "  </tbody>\n",
              "</table>\n",
              "</div>\n",
              "      <button class=\"colab-df-convert\" onclick=\"convertToInteractive('df-3798a640-577a-44ea-980f-e79591e5cda5')\"\n",
              "              title=\"Convert this dataframe to an interactive table.\"\n",
              "              style=\"display:none;\">\n",
              "        \n",
              "  <svg xmlns=\"http://www.w3.org/2000/svg\" height=\"24px\"viewBox=\"0 0 24 24\"\n",
              "       width=\"24px\">\n",
              "    <path d=\"M0 0h24v24H0V0z\" fill=\"none\"/>\n",
              "    <path d=\"M18.56 5.44l.94 2.06.94-2.06 2.06-.94-2.06-.94-.94-2.06-.94 2.06-2.06.94zm-11 1L8.5 8.5l.94-2.06 2.06-.94-2.06-.94L8.5 2.5l-.94 2.06-2.06.94zm10 10l.94 2.06.94-2.06 2.06-.94-2.06-.94-.94-2.06-.94 2.06-2.06.94z\"/><path d=\"M17.41 7.96l-1.37-1.37c-.4-.4-.92-.59-1.43-.59-.52 0-1.04.2-1.43.59L10.3 9.45l-7.72 7.72c-.78.78-.78 2.05 0 2.83L4 21.41c.39.39.9.59 1.41.59.51 0 1.02-.2 1.41-.59l7.78-7.78 2.81-2.81c.8-.78.8-2.07 0-2.86zM5.41 20L4 18.59l7.72-7.72 1.47 1.35L5.41 20z\"/>\n",
              "  </svg>\n",
              "      </button>\n",
              "      \n",
              "  <style>\n",
              "    .colab-df-container {\n",
              "      display:flex;\n",
              "      flex-wrap:wrap;\n",
              "      gap: 12px;\n",
              "    }\n",
              "\n",
              "    .colab-df-convert {\n",
              "      background-color: #E8F0FE;\n",
              "      border: none;\n",
              "      border-radius: 50%;\n",
              "      cursor: pointer;\n",
              "      display: none;\n",
              "      fill: #1967D2;\n",
              "      height: 32px;\n",
              "      padding: 0 0 0 0;\n",
              "      width: 32px;\n",
              "    }\n",
              "\n",
              "    .colab-df-convert:hover {\n",
              "      background-color: #E2EBFA;\n",
              "      box-shadow: 0px 1px 2px rgba(60, 64, 67, 0.3), 0px 1px 3px 1px rgba(60, 64, 67, 0.15);\n",
              "      fill: #174EA6;\n",
              "    }\n",
              "\n",
              "    [theme=dark] .colab-df-convert {\n",
              "      background-color: #3B4455;\n",
              "      fill: #D2E3FC;\n",
              "    }\n",
              "\n",
              "    [theme=dark] .colab-df-convert:hover {\n",
              "      background-color: #434B5C;\n",
              "      box-shadow: 0px 1px 3px 1px rgba(0, 0, 0, 0.15);\n",
              "      filter: drop-shadow(0px 1px 2px rgba(0, 0, 0, 0.3));\n",
              "      fill: #FFFFFF;\n",
              "    }\n",
              "  </style>\n",
              "\n",
              "      <script>\n",
              "        const buttonEl =\n",
              "          document.querySelector('#df-3798a640-577a-44ea-980f-e79591e5cda5 button.colab-df-convert');\n",
              "        buttonEl.style.display =\n",
              "          google.colab.kernel.accessAllowed ? 'block' : 'none';\n",
              "\n",
              "        async function convertToInteractive(key) {\n",
              "          const element = document.querySelector('#df-3798a640-577a-44ea-980f-e79591e5cda5');\n",
              "          const dataTable =\n",
              "            await google.colab.kernel.invokeFunction('convertToInteractive',\n",
              "                                                     [key], {});\n",
              "          if (!dataTable) return;\n",
              "\n",
              "          const docLinkHtml = 'Like what you see? Visit the ' +\n",
              "            '<a target=\"_blank\" href=https://colab.research.google.com/notebooks/data_table.ipynb>data table notebook</a>'\n",
              "            + ' to learn more about interactive tables.';\n",
              "          element.innerHTML = '';\n",
              "          dataTable['output_type'] = 'display_data';\n",
              "          await google.colab.output.renderOutput(dataTable, element);\n",
              "          const docLink = document.createElement('div');\n",
              "          docLink.innerHTML = docLinkHtml;\n",
              "          element.appendChild(docLink);\n",
              "        }\n",
              "      </script>\n",
              "    </div>\n",
              "  </div>\n",
              "  "
            ]
          },
          "metadata": {},
          "execution_count": 15
        }
      ]
    },
    {
      "cell_type": "markdown",
      "source": [
        "We asked `xgb.cv()` to track three metrics on the hold-out validation set. The `results` dataframe contains the values of these metrics on each split of the cross-validation. The column header is very informative. As you can see `test-auc-mean` is the column we will consider."
      ],
      "metadata": {
        "id": "hVWttAlTTgDf"
      }
    },
    {
      "cell_type": "code",
      "source": [
        "import matplotlib.pyplot as plt\n",
        "\n",
        "plt.plot(results['test-auc-mean'])"
      ],
      "metadata": {
        "colab": {
          "base_uri": "https://localhost:8080/",
          "height": 448
        },
        "id": "eL6L2dKzS88Y",
        "outputId": "eb902f86-a585-474d-d434-5ddafbee418c"
      },
      "execution_count": null,
      "outputs": [
        {
          "output_type": "execute_result",
          "data": {
            "text/plain": [
              "[<matplotlib.lines.Line2D at 0x7ff5f3758670>]"
            ]
          },
          "metadata": {},
          "execution_count": 16
        },
        {
          "output_type": "display_data",
          "data": {
            "text/plain": [
              "<Figure size 640x480 with 1 Axes>"
            ],
            "image/png": "[encoded data removed]"
          },
          "metadata": {}
        }
      ]
    },
    {
      "cell_type": "markdown",
      "source": [
        "We see that even for a model with only default parameters, the cross validated `auc` score reaches 0.985. This is pretty good. \n",
        "\n",
        "But the real test of the model lies when it is used to predict on the test set. \n",
        "\n",
        "`xgb.cv()` doesn't give a classifier object. So, next we will train a xgb classifier object on the entire training set and then test it."
      ],
      "metadata": {
        "id": "CJjX-RL0VDJJ"
      }
    },
    {
      "cell_type": "code",
      "source": [
        "clf_1 = xgb.XGBClassifier(**params_1)\n",
        "\n",
        "clf_1.fit(X_train,y_train)\n",
        "\n",
        "\n"
      ],
      "metadata": {
        "colab": {
          "base_uri": "https://localhost:8080/",
          "height": 248
        },
        "id": "TUngTZRHT9tA",
        "outputId": "d5bb3693-dfaf-4695-ad2c-0d3005d6fa21"
      },
      "execution_count": null,
      "outputs": [
        {
          "output_type": "execute_result",
          "data": {
            "text/plain": [
              "XGBClassifier(base_score=None, booster=None, callbacks=None,\n",
              "              colsample_bylevel=None, colsample_bynode=None,\n",
              "              colsample_bytree=None, early_stopping_rounds=None,\n",
              "              enable_categorical=False, eval_metric=None, feature_types=None,\n",
              "              gamma=None, gpu_id=None, grow_policy=None, importance_type=None,\n",
              "              interaction_constraints=None, learning_rate=None, max_bin=None,\n",
              "              max_cat_threshold=None, max_cat_to_onehot=None,\n",
              "              max_delta_step=None, max_depth=None, max_leaves=None,\n",
              "              min_child_weight=None, missing=nan, monotone_constraints=None,\n",
              "              n_estimators=100, n_jobs=None, num_parallel_tree=None,\n",
              "              predictor=None, random_state=None, ...)"
            ],
            "text/html": [
              "<style>#sk-container-id-1 {color: black;background-color: white;}#sk-container-id-1 pre{padding: 0;}#sk-container-id-1 div.sk-toggleable {background-color: white;}#sk-container-id-1 label.sk-toggleable__label {cursor: pointer;display: block;width: 100%;margin-bottom: 0;padding: 0.3em;box-sizing: border-box;text-align: center;}#sk-container-id-1 label.sk-toggleable__label-arrow:before {content: \"▸\";float: left;margin-right: 0.25em;color: #696969;}#sk-container-id-1 label.sk-toggleable__label-arrow:hover:before {color: black;}#sk-container-id-1 div.sk-estimator:hover label.sk-toggleable__label-arrow:before {color: black;}#sk-container-id-1 div.sk-toggleable__content {max-height: 0;max-width: 0;overflow: hidden;text-align: left;background-color: #f0f8ff;}#sk-container-id-1 div.sk-toggleable__content pre {margin: 0.2em;color: black;border-radius: 0.25em;background-color: #f0f8ff;}#sk-container-id-1 input.sk-toggleable__control:checked~div.sk-toggleable__content {max-height: 200px;max-width: 100%;overflow: auto;}#sk-container-id-1 input.sk-toggleable__control:checked~label.sk-toggleable__label-arrow:before {content: \"▾\";}#sk-container-id-1 div.sk-estimator input.sk-toggleable__control:checked~label.sk-toggleable__label {background-color: #d4ebff;}#sk-container-id-1 div.sk-label input.sk-toggleable__control:checked~label.sk-toggleable__label {background-color: #d4ebff;}#sk-container-id-1 input.sk-hidden--visually {border: 0;clip: rect(1px 1px 1px 1px);clip: rect(1px, 1px, 1px, 1px);height: 1px;margin: -1px;overflow: hidden;padding: 0;position: absolute;width: 1px;}#sk-container-id-1 div.sk-estimator {font-family: monospace;background-color: #f0f8ff;border: 1px dotted black;border-radius: 0.25em;box-sizing: border-box;margin-bottom: 0.5em;}#sk-container-id-1 div.sk-estimator:hover {background-color: #d4ebff;}#sk-container-id-1 div.sk-parallel-item::after {content: \"\";width: 100%;border-bottom: 1px solid gray;flex-grow: 1;}#sk-container-id-1 div.sk-label:hover label.sk-toggleable__label {background-color: #d4ebff;}#sk-container-id-1 div.sk-serial::before {content: \"\";position: absolute;border-left: 1px solid gray;box-sizing: border-box;top: 0;bottom: 0;left: 50%;z-index: 0;}#sk-container-id-1 div.sk-serial {display: flex;flex-direction: column;align-items: center;background-color: white;padding-right: 0.2em;padding-left: 0.2em;position: relative;}#sk-container-id-1 div.sk-item {position: relative;z-index: 1;}#sk-container-id-1 div.sk-parallel {display: flex;align-items: stretch;justify-content: center;background-color: white;position: relative;}#sk-container-id-1 div.sk-item::before, #sk-container-id-1 div.sk-parallel-item::before {content: \"\";position: absolute;border-left: 1px solid gray;box-sizing: border-box;top: 0;bottom: 0;left: 50%;z-index: -1;}#sk-container-id-1 div.sk-parallel-item {display: flex;flex-direction: column;z-index: 1;position: relative;background-color: white;}#sk-container-id-1 div.sk-parallel-item:first-child::after {align-self: flex-end;width: 50%;}#sk-container-id-1 div.sk-parallel-item:last-child::after {align-self: flex-start;width: 50%;}#sk-container-id-1 div.sk-parallel-item:only-child::after {width: 0;}#sk-container-id-1 div.sk-dashed-wrapped {border: 1px dashed gray;margin: 0 0.4em 0.5em 0.4em;box-sizing: border-box;padding-bottom: 0.4em;background-color: white;}#sk-container-id-1 div.sk-label label {font-family: monospace;font-weight: bold;display: inline-block;line-height: 1.2em;}#sk-container-id-1 div.sk-label-container {text-align: center;}#sk-container-id-1 div.sk-container {/* jupyter's `normalize.less` sets `[hidden] { display: none; }` but bootstrap.min.css set `[hidden] { display: none !important; }` so we also need the `!important` here to be able to override the default hidden behavior on the sphinx rendered scikit-learn.org. See: https://github.com/scikit-learn/scikit-learn/issues/21755 */display: inline-block !important;position: relative;}#sk-container-id-1 div.sk-text-repr-fallback {display: none;}</style><div id=\"sk-container-id-1\" class=\"sk-top-container\"><div class=\"sk-text-repr-fallback\"><pre>XGBClassifier(base_score=None, booster=None, callbacks=None,\n",
              "              colsample_bylevel=None, colsample_bynode=None,\n",
              "              colsample_bytree=None, early_stopping_rounds=None,\n",
              "              enable_categorical=False, eval_metric=None, feature_types=None,\n",
              "              gamma=None, gpu_id=None, grow_policy=None, importance_type=None,\n",
              "              interaction_constraints=None, learning_rate=None, max_bin=None,\n",
              "              max_cat_threshold=None, max_cat_to_onehot=None,\n",
              "              max_delta_step=None, max_depth=None, max_leaves=None,\n",
              "              min_child_weight=None, missing=nan, monotone_constraints=None,\n",
              "              n_estimators=100, n_jobs=None, num_parallel_tree=None,\n",
              "              predictor=None, random_state=None, ...)</pre><b>In a Jupyter environment, please rerun this cell to show the HTML representation or trust the notebook. <br />On GitHub, the HTML representation is unable to render, please try loading this page with nbviewer.org.</b></div><div class=\"sk-container\" hidden><div class=\"sk-item\"><div class=\"sk-estimator sk-toggleable\"><input class=\"sk-toggleable__control sk-hidden--visually\" id=\"sk-estimator-id-1\" type=\"checkbox\" checked><label for=\"sk-estimator-id-1\" class=\"sk-toggleable__label sk-toggleable__label-arrow\">XGBClassifier</label><div class=\"sk-toggleable__content\"><pre>XGBClassifier(base_score=None, booster=None, callbacks=None,\n",
              "              colsample_bylevel=None, colsample_bynode=None,\n",
              "              colsample_bytree=None, early_stopping_rounds=None,\n",
              "              enable_categorical=False, eval_metric=None, feature_types=None,\n",
              "              gamma=None, gpu_id=None, grow_policy=None, importance_type=None,\n",
              "              interaction_constraints=None, learning_rate=None, max_bin=None,\n",
              "              max_cat_threshold=None, max_cat_to_onehot=None,\n",
              "              max_delta_step=None, max_depth=None, max_leaves=None,\n",
              "              min_child_weight=None, missing=nan, monotone_constraints=None,\n",
              "              n_estimators=100, n_jobs=None, num_parallel_tree=None,\n",
              "              predictor=None, random_state=None, ...)</pre></div></div></div></div></div>"
            ]
          },
          "metadata": {},
          "execution_count": 17
        }
      ]
    },
    {
      "cell_type": "code",
      "source": [
        "pred_1 = clf_1.predict(X_test)"
      ],
      "metadata": {
        "id": "HWc4b8Y3WINP"
      },
      "execution_count": null,
      "outputs": []
    },
    {
      "cell_type": "code",
      "source": [
        "print(f\"f1 score : {f1_score(y_test, pred_1)}\\n\")\n",
        "print(f\"confusion Matrix\\n: {confusion_matrix(y_test, pred_1)}\\n\")\n",
        "print(f\"auc score: {roc_auc_score(y_test, pred_1)}\")\n"
      ],
      "metadata": {
        "colab": {
          "base_uri": "https://localhost:8080/"
        },
        "id": "lQNzqJanW49C",
        "outputId": "095b06a7-2cbf-46d7-9a8f-bba767c3859e"
      },
      "execution_count": null,
      "outputs": [
        {
          "output_type": "stream",
          "name": "stdout",
          "text": [
            "f1 score : 0.9600000000000001\n",
            "\n",
            "confusion Matrix\n",
            ": [[36  6]\n",
            " [ 0 72]]\n",
            "\n",
            "auc score: 0.9285714285714286\n"
          ]
        }
      ]
    },
    {
      "cell_type": "markdown",
      "source": [
        "On the held out test set, we hit a f1_score of .96 which is pretty good, particularly when we are basically using the default parameters. Now the question is can we improve it? \n",
        "\n",
        "A google search would reveal several posts which talks about tunning the hyper-parameters of this model. However, since `XGBClassifier` (and `XGBRegressor`) has so many hyper-parameters available, it is initially hard to pick and choose. This choice obviously depends on the data. \n",
        "\n",
        "Since we don't have any apriory knowledge about it, we will \"go full monty\" and tune all the hyper-parameters that are available to us. \n",
        "\n"
      ],
      "metadata": {
        "id": "itcY825e26Ua"
      }
    },
    {
      "cell_type": "markdown",
      "source": [
        "# A brief over view of the optimization procedure\n",
        "\n",
        "In this blog post, we will explore the use of the [Hyperopt library](https://github.com/hyperopt/hyperopt) to optimize an XGBoost classifier. Hyperopt utilizes Bayesian optimization techniques to solve the hyperparameter optimization problem. To use Hyperopt, users must provide a \"search space\" for the hyperparameters they wish to optimize in order to find the best classifier performance. Hyperopt then builds a probabilistic model based on this search space, selecting random points and creating a \"good\" and a \"bad\" region of the space depending on the performance of the machine learning model. It then constructs a joint probability distribution over these regions, sampling points from the space to evaluate the machine learning model. This process is repeated multiple times until some stopping condition is reached, using the Tree-Structured Parzen estimator algorithm.  Interested readers can look at [Making a Science of Model Search: Hyperparameter Optimization in Hundreds of Dimensions for Vision Architectures](http://proceedings.mlr.press/v28/bergstra13.pdf) and the references therein for a more thorough understanding.\n",
        "\n",
        "To use Hyperopt, we require a search space (user-defined), an objective function, and the use of the fmin() function to minimize the objective function over the search space. Hyperopt uses a Trials object to keep track of all the results of the experiments.\n",
        "\n",
        " - The **search space** defines all the parameters we want to optimize, along with their range and the probability distributions (if desired) that we think the algorithm should sample from during optimization. Hyperopt defines these distributions in the hp object.\n",
        "\n",
        " - In the **objective function**, we define the machine learning algorithm we are interested in (in our case, the XGBoost classifier), along with an evaluation metric that the fmin() function uses during optimization to keep track of the performance. If the evaluation metric is something like F1 score, it should be multiplied by (-1) for minimization.\n",
        "\n",
        " - The `fmin()` function is the engine that drives the optimization process. The minimum set of arguments required for this function are the search space, objective function, Trials object, the algorithm to use (TPE, for example), and the maximum number of iterations (max_eval). An early stopping criterion can also be defined. If users want the values where the minimum value is reached given the search criterion, they should set the `return_argmin` argument to `False`; otherwise, it will return the position (in the array) where the minimum value is attained.\n",
        "\n",
        "\n",
        "It is important to note that this procedure returns a set of hyperparameter values that it thinks optimize the machine learning model given the search space and the data. We must use these values to define the model again on the training set. Furthermore, it is recommended to run a cross-validation procedure inside the objective function rather than utilizing the test set to learn the optimal hyperparameters.\n",
        "\n",
        "\n",
        "\n"
      ],
      "metadata": {
        "id": "RBa8XhnyR-Gr"
      }
    },
    {
      "cell_type": "markdown",
      "source": [
        "## Full set of parameters"
      ],
      "metadata": {
        "id": "Gq4axpIb9X8F"
      }
    },
    {
      "cell_type": "markdown",
      "source": [
        "Below is the search space with **most** of the tunable parameters included. We are utilizing `hyperopt` library to tune our parameters. There are other packages available, for example, `scikit-opt` etc that utilizes a different optimization engine than hyperopt. \n",
        "\n"
      ],
      "metadata": {
        "id": "_8l3hnh2VKzp"
      }
    },
    {
      "cell_type": "code",
      "source": [
        "import xgboost as xgb\n",
        "from sklearn.model_selection import cross_val_score\n",
        "from hyperopt import STATUS_OK, Trials, fmin, hp, tpe, space_eval\n",
        "from hyperopt.early_stop import no_progress_loss"
      ],
      "metadata": {
        "id": "6oecBiiaZykN"
      },
      "execution_count": null,
      "outputs": []
    },
    {
      "cell_type": "code",
      "source": [
        "search_space = {\n",
        "    'max_depth': hp.choice(\"max_depth\", np.arange(1,20,1,dtype=int)),\n",
        "    'eta'      : hp.uniform(\"eta\", 0, 1),\n",
        "    'gamma'    : hp.uniform(\"gamma\", 0, 10e1),\n",
        "    'reg_alpha': hp.uniform(\"reg_alpha\", 10e-7, 10),\n",
        "    'reg_lambda' : hp.uniform(\"reg_lambda\", 0,1),\n",
        "    'colsample_bytree': hp.uniform(\"colsample_bytree\", 0.5,1),\n",
        "    'colsample_bynode': hp.uniform(\"colsample_bynode\", 0.5,1), \n",
        "    'colsample_bylevel': hp.uniform(\"colsample_bylevel\", 0.5,1),\n",
        "    'n_estimators': hp.choice(\"n_estimators\", np.arange(100,1000,10,dtype='int')),\n",
        "    'min_child_weight' : hp.choice(\"min_child_weight\", np.arange(1,10,1,dtype='int')),\n",
        "    'max_delta_step' : hp.choice(\"max_delta_step\", np.arange(1,10,1,dtype='int')),\n",
        "    'subsample' : hp.uniform(\"subsample\",0.5,1),\n",
        "    'objective' : 'binary:logistic',\n",
        "    'eval_metric' : 'aucpr',\n",
        "    #'scale_pos_weight' : hp.uniform('scale_pos_weight', np.ceil(nneg/npos - 2), np.ceil(nneg/npos + 10)),\n",
        "    'seed' : 44\n",
        "}"
      ],
      "metadata": {
        "id": "JMEPMzo2X2Sb"
      },
      "execution_count": null,
      "outputs": []
    },
    {
      "cell_type": "markdown",
      "source": [
        "Now that we have defined a search space for **xgbClassifier**, we will go ahead and define the objective function. \n",
        "\n",
        "Note, I will define it in 3 slightly different ways but utilize the last one as I like it over the rest as it utilizes xgboost's `cv()` function. Though for our toy example we could have used the other functions, for large datasets would significantly improve performance. \n",
        "\n",
        "Also note that the objective function should return a dictionary with `loss` and `status` keys **must** be included in the dictorary. There are some other keys that you can include as well (see the hyperopt documentation referenced above) but to keep things simple, we use the bare minimum that is needed for the hyperopt to work. \n",
        "\n",
        "Hyperopt minimizes the objective function by monitoring the loss function. So if the evaluation metric used is something that is needed to be maximized, then it needs to be multiplied by (-1) as is done below ( maximizing a quantity is same as minimizing the negative of that quantity). "
      ],
      "metadata": {
        "id": "LgXQLzM8XHVQ"
      }
    },
    {
      "cell_type": "code",
      "source": [
        "\n",
        "def objective(space):\n",
        "  clf = xgb.XGBRFClassifier(**space)\n",
        "  evaluation = [(X_train, y_train),(X_test, y_test)]\n",
        "  clf.fit(X_train, y_train)\n",
        "  pred = clf.predict(X_test)\n",
        "  f1_ = f1_score(y_test, pred)\n",
        "  return {'loss': -f1_, 'status': STATUS_OK}\n",
        "\n",
        "\n",
        "def new_objective(space):\n",
        "  clf = xgb.XGBClassifier(**space)\n",
        "  cv_score = cross_val_score(estimator=clf, X = X_train, y=y_train, cv=5, scoring='f1')\n",
        "  f1_ = np.mean(cv_score)\n",
        "  return {'loss':-f1_, 'status':STATUS_OK}\n",
        "\n",
        "def xgb_objective(space):\n",
        "  results = xgb.cv(space, dtrain=dtrain_clf, num_boost_round=500, nfold=5, stratified=True, early_stopping_rounds=20,\n",
        "                   metrics = ['logloss','auc','aucpr','error'])\n",
        "  \n",
        "  best_score = results['test-auc-mean'].max()\n",
        "  return {'loss':-best_score, 'status': STATUS_OK}"
      ],
      "metadata": {
        "id": "hC-QzWWtXuWa"
      },
      "execution_count": null,
      "outputs": []
    },
    {
      "cell_type": "markdown",
      "source": [
        "Now that we have already defined the objective function, we will go ahead and get the best parameters using the `fmin` function of the hyperopt package. "
      ],
      "metadata": {
        "id": "q-D_S9CtZRwt"
      }
    },
    {
      "cell_type": "code",
      "source": [
        "trials = Trials()\n",
        "\n",
        "best_hyperparams = fmin(fn=xgb_objective, space=search_space,algo=tpe.suggest,max_evals=500,trials=trials, return_argmin=False, early_stop_fn=no_progress_loss(10))\n",
        "\n",
        "best_params = best_hyperparams.copy()\n",
        "\n",
        "if 'eval_metric' in best_params:\n",
        "  best_params = {key:best_params[key] for key in best_params if key!='eval_metric'}\n",
        "\n",
        "best_params"
      ],
      "metadata": {
        "id": "sZfWOFipZQvW"
      },
      "execution_count": null,
      "outputs": []
    },
    {
      "cell_type": "markdown",
      "source": [
        "We have obtained a set of best parameters. Now we will build the classifier and test on the test set. "
      ],
      "metadata": {
        "id": "MWvXbr5daS9F"
      }
    },
    {
      "cell_type": "code",
      "source": [
        "clf_2 = xgb.XGBClassifier(**best_params)\n",
        "clf_2.fit(X_train, y_train)\n",
        "\n",
        "pred_2 = clf_2.predict(X_test)\n",
        "\n",
        "print(f\"f1 score : {f1_score(y_test, pred_2)}\\n\")\n",
        "print(f\"confusion Matrix\\n: {confusion_matrix(y_test, pred_2)}\\n\")\n",
        "print(f\"auc score: {roc_auc_score(y_test, pred_2)}\")\n"
      ],
      "metadata": {
        "colab": {
          "base_uri": "https://localhost:8080/"
        },
        "id": "SRW693QiafJh",
        "outputId": "f7f05f1e-1c9d-47a5-d200-e24654713b87"
      },
      "execution_count": null,
      "outputs": [
        {
          "output_type": "stream",
          "name": "stdout",
          "text": [
            "f1 score : 0.9403973509933775\n",
            "\n",
            "confusion Matrix\n",
            ": [[34  8]\n",
            " [ 1 71]]\n",
            "\n",
            "auc score: 0.8978174603174603\n"
          ]
        }
      ]
    },
    {
      "cell_type": "markdown",
      "source": [
        "Oppss!!! Note that our performance dropped compared to default parameters where the f1 score was 0.960. But why? Afterall, we optimized the parameters and during optimization only used cross-validation on the training set to keep information leakage from test set into our model. \n",
        "\n",
        "Then why is the performance drop? This shows that with all these hyperparameters tuned based on the training set, the model learned **too much** of the training set and failed to generalize. A classic case of **overfitting** happening right infront of our eyes. \n",
        "\n",
        "One possible reason, could be the number of hyperparameters we chose to tune. It seems that since we tuned all possible tunable parameters, it may have backfired. \n",
        "\n",
        "At this point, redo the above experiments by removing one hyper-parmeters at a time and see if that imroves the f1 score above the default score.\n",
        "\n",
        "After playing around with the hyper-parameters and their ranges, I hit upon the the following search space.\n",
        "\n",
        "Lets see how we do."
      ],
      "metadata": {
        "id": "VT5sRvH3a_Ch"
      }
    },
    {
      "cell_type": "code",
      "source": [
        "search_space_3 = {\n",
        "    #'max_depth': hp.choice(\"max_depth\", np.arange(1,20,1,dtype=int)),\n",
        "    'eta'      : hp.uniform(\"eta\", 0, 1),\n",
        "    'gamma'    : 0,#hp.uniform(\"gamma\", 0, 1),\n",
        "    #'reg_alpha': hp.uniform(\"reg_alpha\", 10e-7, 1),\n",
        "    'reg_lambda' : hp.uniform(\"reg_lambda\", 0,1),\n",
        "    'n_estimators': hp.choice(\"n_estimators\", np.arange(100,1000,10,dtype='int')),\n",
        "    #'min_child_weight' : hp.choice(\"min_child_weight\", np.arange(1,10,1,dtype='int')),\n",
        "    'objective' : 'binary:logistic',\n",
        "    'eval_metric' : 'auc',\n",
        "    #'scale_pos_weight' : hp.uniform('scale_pos_weight', np.ceil(nneg/npos - 2), np.ceil(nneg/npos + 10)),\n",
        "    'seed' : 44\n",
        "}"
      ],
      "metadata": {
        "id": "O0s1enB_c7jb"
      },
      "execution_count": null,
      "outputs": []
    },
    {
      "cell_type": "code",
      "source": [
        "trials = Trials()\n",
        "\n",
        "best_hyperparams = fmin(fn=xgb_objective, \n",
        "                        space=search_space_3,\n",
        "                        algo=tpe.suggest, \n",
        "                        max_evals=500,\n",
        "                        trials=trials, \n",
        "                        return_argmin=False, \n",
        "                        early_stop_fn=no_progress_loss(10))\n",
        "\n",
        "best_params_3 = best_hyperparams.copy()\n",
        "\n",
        "if 'eval_metric' in best_params_3:\n",
        "  best_params_3 = {key:best_params_3[key] for key in best_params_3 if key!='eval_metric'}\n",
        "\n",
        "best_params_3"
      ],
      "metadata": {
        "id": "yp9-9GLa75tZ"
      },
      "execution_count": null,
      "outputs": []
    },
    {
      "cell_type": "code",
      "source": [
        "clf_3 = xgb.XGBClassifier(**best_params_3)\n",
        "clf_3.fit(X_train, y_train)\n",
        "\n",
        "pred_3 = clf_3.predict(X_test)\n",
        "\n",
        "print(f\"f1 score : {f1_score(y_test, pred_3)}\\n\")\n",
        "print(f\"confusion Matrix\\n: {confusion_matrix(y_test, pred_3)}\\n\")\n",
        "print(f\"auc score: {roc_auc_score(y_test, pred_3)}\")\n"
      ],
      "metadata": {
        "colab": {
          "base_uri": "https://localhost:8080/"
        },
        "id": "nE4I4j-_8t6-",
        "outputId": "df9f77bb-9407-4b29-f1ce-9342f47def46"
      },
      "execution_count": null,
      "outputs": [
        {
          "output_type": "stream",
          "name": "stdout",
          "text": [
            "f1 score : 0.9664429530201343\n",
            "\n",
            "confusion Matrix\n",
            ": [[37  5]\n",
            " [ 0 72]]\n",
            "\n",
            "auc score: 0.9404761904761905\n"
          ]
        }
      ]
    },
    {
      "cell_type": "markdown",
      "source": [
        "Notice, with this combination of hyper-parameters and their values, f1 score exceeds the f1 score with default hyper-parameters. Also note the value of the hyper-parameter `gamma` ( γ ). It is set to 0. γ is an important hyper-parameter for xgboost. A good blog post about tunning hyper-parameters and a discussion of the effect of γ on the model can be found in this medium article [here](https://medium.com/data-design/xgboost-hi-im-gamma-what-can-i-do-for-you-and-the-tuning-of-regularization-a42ea17e6ab6). "
      ],
      "metadata": {
        "id": "3aF3nbZI9EAy"
      }
    },
    {
      "cell_type": "markdown",
      "source": [
        "# Conclusion\n",
        "\n",
        "In conclusion, the process of tuning hyperparameters for a XGBoost classifier can be a daunting task with so many different tunable hyper-parameter available to the user. As demonstrated in this post, Bayesian optimization algorithms provided by the Hyperopt package offer a promising alternative to traditional tuning algorithms such as grid search or randomized search. By following the example and guidelines provided in this post, we hope that readers will gain a better understanding of the process of hyperparameter tuning and be able to optimize their XGBoost classifiers effectively.\n",
        "\n",
        "As stated in the begining of this article, the primary focus of this post is to highlight the importance of hyperparameter tuning for all machine learning models (and not just for xgboost classifier). I hope that readers will find this information useful and will be able to adopt it in their own work to optimize the performance of their machine learning models. "
      ],
      "metadata": {
        "id": "SskRxnqX_-5L"
      }
    },
    {
      "cell_type": "code",
      "source": [],
      "metadata": {
        "id": "YPLvokNUGcLG"
      },
      "execution_count": null,
      "outputs": []
    }
  ]
}